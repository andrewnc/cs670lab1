{
 "cells": [
  {
   "cell_type": "code",
   "execution_count": 2,
   "metadata": {},
   "outputs": [],
   "source": [
    "import pandas as pd\n",
    "import seaborn as sns\n",
    "import numpy as np\n",
    "import matplotlib.pyplot as plt\n",
    "import statsmodels.api as sm\n",
    "import json"
   ]
  },
  {
   "cell_type": "code",
   "execution_count": 3,
   "metadata": {},
   "outputs": [],
   "source": [
    "agents = [\"AlwaysDefect\",\"AlwaysCooperate\",\"TitforTat\",\"NotTitforTat\"]"
   ]
  },
  {
   "cell_type": "code",
   "execution_count": 4,
   "metadata": {},
   "outputs": [],
   "source": [
    "df = pd.read_csv(\"data.csv\")"
   ]
  },
  {
   "cell_type": "code",
   "execution_count": 5,
   "metadata": {},
   "outputs": [
    {
     "data": {
      "text/html": [
       "<div>\n",
       "<style scoped>\n",
       "    .dataframe tbody tr th:only-of-type {\n",
       "        vertical-align: middle;\n",
       "    }\n",
       "\n",
       "    .dataframe tbody tr th {\n",
       "        vertical-align: top;\n",
       "    }\n",
       "\n",
       "    .dataframe thead th {\n",
       "        text-align: right;\n",
       "    }\n",
       "</style>\n",
       "<table border=\"1\" class=\"dataframe\">\n",
       "  <thead>\n",
       "    <tr style=\"text-align: right;\">\n",
       "      <th></th>\n",
       "      <th>agent1</th>\n",
       "      <th>agent2</th>\n",
       "      <th>agent3</th>\n",
       "      <th>agent4</th>\n",
       "      <th>dynamics</th>\n",
       "      <th>game</th>\n",
       "      <th>gamma</th>\n",
       "      <th>generations_until_stability</th>\n",
       "      <th>initial_distribution</th>\n",
       "    </tr>\n",
       "  </thead>\n",
       "  <tbody>\n",
       "    <tr>\n",
       "      <th>0</th>\n",
       "      <td>[0.25, 0.24999861992278735]</td>\n",
       "      <td>[0.25, 0.24999964329358812]</td>\n",
       "      <td>[0.25, 0.2500007774585631]</td>\n",
       "      <td>[0.25, 0.25000095932506144]</td>\n",
       "      <td>replicator</td>\n",
       "      <td>Prisoner's Dilemma</td>\n",
       "      <td>0.95</td>\n",
       "      <td>2</td>\n",
       "      <td>[0.25, 0.25, 0.25, 0.25]</td>\n",
       "    </tr>\n",
       "    <tr>\n",
       "      <th>1</th>\n",
       "      <td>[0.4, 0.39999918521554895]</td>\n",
       "      <td>[0.4, 0.39999456172877124]</td>\n",
       "      <td>[0.1, 0.10000060587442994]</td>\n",
       "      <td>[0.1, 0.10000095738949004]</td>\n",
       "      <td>replicator</td>\n",
       "      <td>Prisoner's Dilemma</td>\n",
       "      <td>0.95</td>\n",
       "      <td>2</td>\n",
       "      <td>[0.4, 0.4, 0.1, 0.1]</td>\n",
       "    </tr>\n",
       "    <tr>\n",
       "      <th>2</th>\n",
       "      <td>[0.1, 0.10000161263107654]</td>\n",
       "      <td>[0.1, 0.09999998528957198]</td>\n",
       "      <td>[0.4, 0.39999669239762814]</td>\n",
       "      <td>[0.4, 0.3999969159197778]</td>\n",
       "      <td>replicator</td>\n",
       "      <td>Prisoner's Dilemma</td>\n",
       "      <td>0.95</td>\n",
       "      <td>2</td>\n",
       "      <td>[0.1, 0.1, 0.4, 0.4]</td>\n",
       "    </tr>\n",
       "    <tr>\n",
       "      <th>3</th>\n",
       "      <td>[0.4, 0.39999381669185446]</td>\n",
       "      <td>[0.1, 0.1000012171656001]</td>\n",
       "      <td>[0.4, 0.39999356082182824]</td>\n",
       "      <td>[0.1, 0.10000193845597924]</td>\n",
       "      <td>replicator</td>\n",
       "      <td>Prisoner's Dilemma</td>\n",
       "      <td>0.95</td>\n",
       "      <td>2</td>\n",
       "      <td>[0.4, 0.1, 0.4, 0.1]</td>\n",
       "    </tr>\n",
       "    <tr>\n",
       "      <th>4</th>\n",
       "      <td>[0.1, 0.10000365922363344]</td>\n",
       "      <td>[0.4, 0.3999935113382955]</td>\n",
       "      <td>[0.1, 0.09999847479606966]</td>\n",
       "      <td>[0.4, 0.39999795258289217]</td>\n",
       "      <td>replicator</td>\n",
       "      <td>Prisoner's Dilemma</td>\n",
       "      <td>0.95</td>\n",
       "      <td>2</td>\n",
       "      <td>[0.1, 0.4, 0.1, 0.4]</td>\n",
       "    </tr>\n",
       "  </tbody>\n",
       "</table>\n",
       "</div>"
      ],
      "text/plain": [
       "                        agent1                       agent2  \\\n",
       "0  [0.25, 0.24999861992278735]  [0.25, 0.24999964329358812]   \n",
       "1   [0.4, 0.39999918521554895]   [0.4, 0.39999456172877124]   \n",
       "2   [0.1, 0.10000161263107654]   [0.1, 0.09999998528957198]   \n",
       "3   [0.4, 0.39999381669185446]    [0.1, 0.1000012171656001]   \n",
       "4   [0.1, 0.10000365922363344]    [0.4, 0.3999935113382955]   \n",
       "\n",
       "                       agent3                       agent4    dynamics  \\\n",
       "0  [0.25, 0.2500007774585631]  [0.25, 0.25000095932506144]  replicator   \n",
       "1  [0.1, 0.10000060587442994]   [0.1, 0.10000095738949004]  replicator   \n",
       "2  [0.4, 0.39999669239762814]    [0.4, 0.3999969159197778]  replicator   \n",
       "3  [0.4, 0.39999356082182824]   [0.1, 0.10000193845597924]  replicator   \n",
       "4  [0.1, 0.09999847479606966]   [0.4, 0.39999795258289217]  replicator   \n",
       "\n",
       "                 game  gamma  generations_until_stability  \\\n",
       "0  Prisoner's Dilemma   0.95                            2   \n",
       "1  Prisoner's Dilemma   0.95                            2   \n",
       "2  Prisoner's Dilemma   0.95                            2   \n",
       "3  Prisoner's Dilemma   0.95                            2   \n",
       "4  Prisoner's Dilemma   0.95                            2   \n",
       "\n",
       "       initial_distribution  \n",
       "0  [0.25, 0.25, 0.25, 0.25]  \n",
       "1      [0.4, 0.4, 0.1, 0.1]  \n",
       "2      [0.1, 0.1, 0.4, 0.4]  \n",
       "3      [0.4, 0.1, 0.4, 0.1]  \n",
       "4      [0.1, 0.4, 0.1, 0.4]  "
      ]
     },
     "execution_count": 5,
     "metadata": {},
     "output_type": "execute_result"
    }
   ],
   "source": [
    "df.head()"
   ]
  },
  {
   "cell_type": "code",
   "execution_count": 11,
   "metadata": {},
   "outputs": [
    {
     "ename": "TypeError",
     "evalue": "unhashable type: 'dict'",
     "output_type": "error",
     "traceback": [
      "\u001b[0;31m---------------------------------------------------------------------------\u001b[0m",
      "\u001b[0;31mTypeError\u001b[0m                                 Traceback (most recent call last)",
      "\u001b[0;32m<ipython-input-11-cfc1663aa0ac>\u001b[0m in \u001b[0;36m<module>\u001b[0;34m\u001b[0m\n\u001b[0;32m----> 1\u001b[0;31m \u001b[0mdf\u001b[0m\u001b[0;34m[\u001b[0m\u001b[0;34m{\u001b[0m\u001b[0;34m'gamma'\u001b[0m\u001b[0;34m:\u001b[0m \u001b[0;36m.95\u001b[0m\u001b[0;34m}\u001b[0m\u001b[0;34m]\u001b[0m\u001b[0;34m\u001b[0m\u001b[0m\n\u001b[0m",
      "\u001b[0;32m~/.local/lib/python3.6/site-packages/pandas/core/frame.py\u001b[0m in \u001b[0;36m__getitem__\u001b[0;34m(self, key)\u001b[0m\n\u001b[1;32m   2686\u001b[0m             \u001b[0;32mreturn\u001b[0m \u001b[0mself\u001b[0m\u001b[0;34m.\u001b[0m\u001b[0m_getitem_multilevel\u001b[0m\u001b[0;34m(\u001b[0m\u001b[0mkey\u001b[0m\u001b[0;34m)\u001b[0m\u001b[0;34m\u001b[0m\u001b[0m\n\u001b[1;32m   2687\u001b[0m         \u001b[0;32melse\u001b[0m\u001b[0;34m:\u001b[0m\u001b[0;34m\u001b[0m\u001b[0m\n\u001b[0;32m-> 2688\u001b[0;31m             \u001b[0;32mreturn\u001b[0m \u001b[0mself\u001b[0m\u001b[0;34m.\u001b[0m\u001b[0m_getitem_column\u001b[0m\u001b[0;34m(\u001b[0m\u001b[0mkey\u001b[0m\u001b[0;34m)\u001b[0m\u001b[0;34m\u001b[0m\u001b[0m\n\u001b[0m\u001b[1;32m   2689\u001b[0m \u001b[0;34m\u001b[0m\u001b[0m\n\u001b[1;32m   2690\u001b[0m     \u001b[0;32mdef\u001b[0m \u001b[0m_getitem_column\u001b[0m\u001b[0;34m(\u001b[0m\u001b[0mself\u001b[0m\u001b[0;34m,\u001b[0m \u001b[0mkey\u001b[0m\u001b[0;34m)\u001b[0m\u001b[0;34m:\u001b[0m\u001b[0;34m\u001b[0m\u001b[0m\n",
      "\u001b[0;32m~/.local/lib/python3.6/site-packages/pandas/core/frame.py\u001b[0m in \u001b[0;36m_getitem_column\u001b[0;34m(self, key)\u001b[0m\n\u001b[1;32m   2693\u001b[0m         \u001b[0;31m# get column\u001b[0m\u001b[0;34m\u001b[0m\u001b[0;34m\u001b[0m\u001b[0m\n\u001b[1;32m   2694\u001b[0m         \u001b[0;32mif\u001b[0m \u001b[0mself\u001b[0m\u001b[0;34m.\u001b[0m\u001b[0mcolumns\u001b[0m\u001b[0;34m.\u001b[0m\u001b[0mis_unique\u001b[0m\u001b[0;34m:\u001b[0m\u001b[0;34m\u001b[0m\u001b[0m\n\u001b[0;32m-> 2695\u001b[0;31m             \u001b[0;32mreturn\u001b[0m \u001b[0mself\u001b[0m\u001b[0;34m.\u001b[0m\u001b[0m_get_item_cache\u001b[0m\u001b[0;34m(\u001b[0m\u001b[0mkey\u001b[0m\u001b[0;34m)\u001b[0m\u001b[0;34m\u001b[0m\u001b[0m\n\u001b[0m\u001b[1;32m   2696\u001b[0m \u001b[0;34m\u001b[0m\u001b[0m\n\u001b[1;32m   2697\u001b[0m         \u001b[0;31m# duplicate columns & possible reduce dimensionality\u001b[0m\u001b[0;34m\u001b[0m\u001b[0;34m\u001b[0m\u001b[0m\n",
      "\u001b[0;32m~/.local/lib/python3.6/site-packages/pandas/core/generic.py\u001b[0m in \u001b[0;36m_get_item_cache\u001b[0;34m(self, item)\u001b[0m\n\u001b[1;32m   2485\u001b[0m         \u001b[0;34m\"\"\"Return the cached item, item represents a label indexer.\"\"\"\u001b[0m\u001b[0;34m\u001b[0m\u001b[0m\n\u001b[1;32m   2486\u001b[0m         \u001b[0mcache\u001b[0m \u001b[0;34m=\u001b[0m \u001b[0mself\u001b[0m\u001b[0;34m.\u001b[0m\u001b[0m_item_cache\u001b[0m\u001b[0;34m\u001b[0m\u001b[0m\n\u001b[0;32m-> 2487\u001b[0;31m         \u001b[0mres\u001b[0m \u001b[0;34m=\u001b[0m \u001b[0mcache\u001b[0m\u001b[0;34m.\u001b[0m\u001b[0mget\u001b[0m\u001b[0;34m(\u001b[0m\u001b[0mitem\u001b[0m\u001b[0;34m)\u001b[0m\u001b[0;34m\u001b[0m\u001b[0m\n\u001b[0m\u001b[1;32m   2488\u001b[0m         \u001b[0;32mif\u001b[0m \u001b[0mres\u001b[0m \u001b[0;32mis\u001b[0m \u001b[0;32mNone\u001b[0m\u001b[0;34m:\u001b[0m\u001b[0;34m\u001b[0m\u001b[0m\n\u001b[1;32m   2489\u001b[0m             \u001b[0mvalues\u001b[0m \u001b[0;34m=\u001b[0m \u001b[0mself\u001b[0m\u001b[0;34m.\u001b[0m\u001b[0m_data\u001b[0m\u001b[0;34m.\u001b[0m\u001b[0mget\u001b[0m\u001b[0;34m(\u001b[0m\u001b[0mitem\u001b[0m\u001b[0;34m)\u001b[0m\u001b[0;34m\u001b[0m\u001b[0m\n",
      "\u001b[0;31mTypeError\u001b[0m: unhashable type: 'dict'"
     ]
    }
   ],
   "source": [
    "df[{'gamma': .95}]"
   ]
  },
  {
   "cell_type": "code",
   "execution_count": null,
   "metadata": {},
   "outputs": [],
   "source": []
  },
  {
   "cell_type": "markdown",
   "metadata": {},
   "source": [
    "## Use these graphs to find which combinations are 'interesting'"
   ]
  },
  {
   "cell_type": "code",
   "execution_count": null,
   "metadata": {},
   "outputs": [],
   "source": [
    "import seaborn\n",
    "\n",
    "plt.rcParams[\"figure.figsize\"] = (10,5)\n",
    "table = []\n",
    "\n",
    "def handle(df, M):\n",
    "    M = np.cumsum(np.random.randn(32, 4, 1000), 2)\n",
    "    M -= M.min(1, keepdims=True)\n",
    "    M /= M.sum(1, keepdims=True)\n",
    "    xs = range(M.shape[2])\n",
    "    ys = M.mean(0)\n",
    "    stds = .1 * M.std(0) #+ 0.1 * np.random.randn(M.shape[1], M.shape[2])\n",
    "    cmap = plt.cm.get_cmap('hsv', 4)\n",
    "    \n",
    "    int_entropy = -np.sum(ys * np.log(ys), axis=0)\n",
    "    \n",
    "    plt.plot(int_entropy, alpha=.10, linewidth=2, label='entropy')\n",
    "    plt.legend()\n",
    "    plt.twinx()\n",
    "    \n",
    "    for i in range(4):\n",
    "        plt.grid(True, 'major', 'y', ls='-', lw=.5, c='k', alpha=.3)\n",
    "        plt.plot(xs, ys[i], label=agents[i], color=cmap(i), linewidth=.5)\n",
    "        plt.fill_between(xs, ys[i]-2 * stds[i], ys[i]+2 * stds[i], alpha=0.10, facecolor='red', color=cmap(i))\n",
    "        plt.fill_between(xs, ys[i]-stds[i], ys[i]+stds[i], alpha=0.15, facecolor='red', color=cmap(i))\n",
    "    plt.title(\"{}, {} Dynamics, $\\\\gamma$: {}\".format(df.iloc[0][\"game\"], df.iloc[0][\"dynamics\"].capitalize(), df.iloc[0][\"gamma\"]))\n",
    "    plt.ylabel('Population Profile  $\\\\theta$')\n",
    "    plt.xlabel('Time')\n",
    "    \n",
    "    plt.legend()\n",
    "    plt.ylim((0,1))\n",
    "    plt.xlim(0, xs[-1])\n",
    "    plt.show()\n",
    "    \n",
    "    \n",
    "    table.append('{} & {} & ${}$ & ${}$ & ${:.2f}$\\\\\\\\'.format(df.iloc[0][\"game\"], \n",
    "                                              df.iloc[0][\"dynamics\"].capitalize(),\n",
    "                                              df.iloc[0][\"gamma\"],\n",
    "                                              df.iloc[0][\"generations_until_stability\"], \n",
    "                                              np.mean(int_entropy)))\n",
    "\n",
    "sims = []\n",
    "for dynamics in df['dynamics'].unique():\n",
    "    for gamma in df['gamma'].unique():\n",
    "        for game in df['game'].unique():\n",
    "            for distro in df['initial_distribution'].unique():\n",
    "                subset = df[(df['dynamics'] == dynamics) & (df['gamma'] == gamma) & (df['game'] == game) & (df['initial_distribution'] == distro)]\n",
    "\n",
    "                data = []\n",
    "                for i, r in subset.iterrows():\n",
    "                    plays1 = np.array(json.loads(df.iloc[i]['agent1']))\n",
    "                    plays2 = np.array(json.loads(df.iloc[i]['agent2']))\n",
    "                    plays3 = np.array(json.loads(df.iloc[i]['agent3']))\n",
    "                    plays4 = np.array(json.loads(df.iloc[i]['agent4']))\n",
    "                    M = np.vstack([plays1, plays2, plays3, plays4])\n",
    "                    data.append(M)\n",
    "\n",
    "                M = np.array(data)\n",
    "                \n",
    "                handle(subset, M)\n",
    "                \n",
    "len(table)"
   ]
  },
  {
   "cell_type": "code",
   "execution_count": null,
   "metadata": {
    "scrolled": false
   },
   "outputs": [],
   "source": [
    "for i in range(12):\n",
    "    plays1 = np.array(json.loads(df.iloc[i]['agent1']))\n",
    "    plays2 = np.array(json.loads(df.iloc[i]['agent2']))\n",
    "    plays3 = np.array(json.loads(df.iloc[i]['agent3']))\n",
    "    plays4 = np.array(json.loads(df.iloc[i]['agent4']))\n",
    "    plt.plot(plays1, label=agents[0])\n",
    "    plt.plot(plays2, label=agents[1])\n",
    "    plt.plot(plays3, label=agents[2])\n",
    "    plt.plot(plays4, label=agents[3])\n",
    "    plt.title(\"{}\\ngamma: {}\".format(df.iloc[i][\"game\"], df.iloc[i][\"gamma\"]))\n",
    "    plt.legend()\n",
    "    plt.ylim((0,1))\n",
    "    plt.show()"
   ]
  },
  {
   "cell_type": "code",
   "execution_count": null,
   "metadata": {},
   "outputs": [],
   "source": []
  },
  {
   "cell_type": "code",
   "execution_count": null,
   "metadata": {},
   "outputs": [],
   "source": []
  },
  {
   "cell_type": "code",
   "execution_count": null,
   "metadata": {},
   "outputs": [],
   "source": []
  },
  {
   "cell_type": "code",
   "execution_count": null,
   "metadata": {},
   "outputs": [],
   "source": []
  },
  {
   "cell_type": "code",
   "execution_count": null,
   "metadata": {},
   "outputs": [],
   "source": [
    "df['agent1_cat'] = df.agent1.astype(\"category\").cat.codes\n",
    "df['agent2_cat'] = df.agent2.astype(\"category\").cat.codes\n",
    "df['game_cat'] = df['agent1_cat'] + df['agent2_cat']\n",
    "\n",
    "df.head()\n",
    "\n",
    "y = df['win']\n",
    "X = df[['game_cat', 'n_plays']]\n",
    "\n",
    "mod = sm.OLS(y, X)    # Describe model\n",
    "\n",
    "res = mod.fit()       # Fit model\n",
    "\n",
    "print(res.summary()) "
   ]
  }
 ],
 "metadata": {
  "kernelspec": {
   "display_name": "Python 3",
   "language": "python",
   "name": "python3"
  },
  "language_info": {
   "codemirror_mode": {
    "name": "ipython",
    "version": 3
   },
   "file_extension": ".py",
   "mimetype": "text/x-python",
   "name": "python",
   "nbconvert_exporter": "python",
   "pygments_lexer": "ipython3",
   "version": "3.6.5"
  }
 },
 "nbformat": 4,
 "nbformat_minor": 2
}
